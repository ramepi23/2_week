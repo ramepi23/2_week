{
 "cells": [
  {
   "cell_type": "markdown",
   "metadata": {},
   "source": [
    "# Epi School Week 2 - Python Assignment \n",
    "## Feb 28, 2021\n",
    "## Ramin Shahabadi"
   ]
  },
  {
   "cell_type": "markdown",
   "metadata": {},
   "source": [
    "**2.3 Here is a classic coding interview challenge.  Write a Python program called fizzbuzz.py that prints each number from 1 to 100, each on its own line, but with the following modifications.\n",
    "If the number is divisible by 3, print \"Fizz\" instead,\n",
    "If the number is divisible by 5, print \"Buzz\" instead,\n",
    "Or if the number is divisible by both 3 and 5, print \"FizzBuzz\" instead.**"
   ]
  },
  {
   "cell_type": "code",
   "execution_count": 1,
   "metadata": {},
   "outputs": [],
   "source": [
    "def fizzbuzz(num):\n",
    "    if (num%3==0 and num%5==0):\n",
    "        return \"FizzBuzz\"\n",
    "    elif num%3==0:\n",
    "        return \"Fizz\"\n",
    "    elif num%5==0:\n",
    "        return \"Buzz\"\n",
    "    else:\n",
    "        return num "
   ]
  },
  {
   "cell_type": "code",
   "execution_count": 2,
   "metadata": {},
   "outputs": [
    {
     "name": "stdout",
     "output_type": "stream",
     "text": [
      "1 1\n",
      "3 Fizz\n",
      "5 Buzz\n",
      "15 FizzBuzz\n",
      "20 Buzz\n",
      "30 FizzBuzz\n",
      "33 Fizz\n",
      "45 FizzBuzz\n"
     ]
    }
   ],
   "source": [
    "test = [1,3,5,15,20,30,33,45]\n",
    "\n",
    "for i in test:\n",
    "    print(i,fizzbuzz(i))\n"
   ]
  },
  {
   "cell_type": "code",
   "execution_count": 3,
   "metadata": {},
   "outputs": [
    {
     "name": "stdout",
     "output_type": "stream",
     "text": [
      "0 FizzBuzz\n",
      "1 1\n",
      "2 2\n",
      "3 Fizz\n",
      "4 4\n",
      "5 Buzz\n",
      "6 Fizz\n",
      "7 7\n",
      "8 8\n",
      "9 Fizz\n",
      "10 Buzz\n",
      "11 11\n",
      "12 Fizz\n",
      "13 13\n",
      "14 14\n",
      "15 FizzBuzz\n",
      "16 16\n",
      "17 17\n",
      "18 Fizz\n",
      "19 19\n",
      "20 Buzz\n",
      "21 Fizz\n",
      "22 22\n",
      "23 23\n",
      "24 Fizz\n",
      "25 Buzz\n",
      "26 26\n",
      "27 Fizz\n",
      "28 28\n",
      "29 29\n",
      "30 FizzBuzz\n",
      "31 31\n",
      "32 32\n",
      "33 Fizz\n",
      "34 34\n",
      "35 Buzz\n",
      "36 Fizz\n",
      "37 37\n",
      "38 38\n",
      "39 Fizz\n",
      "40 Buzz\n",
      "41 41\n",
      "42 Fizz\n",
      "43 43\n",
      "44 44\n",
      "45 FizzBuzz\n",
      "46 46\n",
      "47 47\n",
      "48 Fizz\n",
      "49 49\n",
      "50 Buzz\n",
      "51 Fizz\n",
      "52 52\n",
      "53 53\n",
      "54 Fizz\n",
      "55 Buzz\n",
      "56 56\n",
      "57 Fizz\n",
      "58 58\n",
      "59 59\n",
      "60 FizzBuzz\n",
      "61 61\n",
      "62 62\n",
      "63 Fizz\n",
      "64 64\n",
      "65 Buzz\n",
      "66 Fizz\n",
      "67 67\n",
      "68 68\n",
      "69 Fizz\n",
      "70 Buzz\n",
      "71 71\n",
      "72 Fizz\n",
      "73 73\n",
      "74 74\n",
      "75 FizzBuzz\n",
      "76 76\n",
      "77 77\n",
      "78 Fizz\n",
      "79 79\n",
      "80 Buzz\n",
      "81 Fizz\n",
      "82 82\n",
      "83 83\n",
      "84 Fizz\n",
      "85 Buzz\n",
      "86 86\n",
      "87 Fizz\n",
      "88 88\n",
      "89 89\n",
      "90 FizzBuzz\n",
      "91 91\n",
      "92 92\n",
      "93 Fizz\n",
      "94 94\n",
      "95 Buzz\n",
      "96 Fizz\n",
      "97 97\n",
      "98 98\n",
      "99 Fizz\n",
      "100 Buzz\n"
     ]
    }
   ],
   "source": [
    "n = 100\n",
    "\n",
    "for i in range(n+1):\n",
    "    print(i, fizzbuzz(i))\n"
   ]
  },
  {
   "cell_type": "markdown",
   "metadata": {},
   "source": [
    "**2.4 Write a Python function called primes that takes a number n as an input, and outputs all prime numbers from 1 to n.  (Remember: a prime number is a whole number greater than 1 which is divisible only by 1 and itself.)  For instance, primes(10) should return the list [2,3,5,7].**"
   ]
  },
  {
   "cell_type": "code",
   "execution_count": 4,
   "metadata": {},
   "outputs": [],
   "source": [
    "# is number prime?.. y-> return number, n-> None\n",
    "def prime(n):\n",
    "    if n>1:\n",
    "        for i in range(2,n):\n",
    "            if n%i==0:\n",
    "                return \n",
    "        return n "
   ]
  },
  {
   "cell_type": "code",
   "execution_count": 5,
   "metadata": {},
   "outputs": [
    {
     "name": "stdout",
     "output_type": "stream",
     "text": [
      "1 None\n",
      "3 3\n",
      "8 None\n",
      "9 None\n",
      "27 None\n",
      "29 29\n"
     ]
    }
   ],
   "source": [
    "test = [1,3,8,9,27,29]\n",
    "\n",
    "for i in test: \n",
    "    print(i, prime(i))"
   ]
  },
  {
   "cell_type": "code",
   "execution_count": 6,
   "metadata": {},
   "outputs": [],
   "source": [
    "def primes(n):\n",
    "    return [prime(i) for i in range(n+1) if prime(i)!=None]"
   ]
  },
  {
   "cell_type": "code",
   "execution_count": 7,
   "metadata": {
    "scrolled": true
   },
   "outputs": [
    {
     "data": {
      "text/plain": [
       "[2, 3, 5, 7]"
      ]
     },
     "execution_count": 7,
     "metadata": {},
     "output_type": "execute_result"
    }
   ],
   "source": [
    "primes(10)"
   ]
  },
  {
   "cell_type": "markdown",
   "metadata": {},
   "source": [
    "**2.5 Write a Python function called prime_factorization that takes a whole number  n as an input and returns its prime factorization: a list of prime numbers whose product is n.  There may be repetitions in the list. For instance, prime_factorization(120) should return [2,2,2,3,5]**"
   ]
  },
  {
   "cell_type": "code",
   "execution_count": 8,
   "metadata": {},
   "outputs": [],
   "source": [
    "def prime_factorization(n):\n",
    "    factors=[]\n",
    "    i=2\n",
    "      \n",
    "    while n>1:\n",
    "        if n%i==0:\n",
    "            factors.append(i)\n",
    "            n/=i\n",
    "            i-=1\n",
    "        i+=1  \n",
    "    return factors"
   ]
  },
  {
   "cell_type": "code",
   "execution_count": 9,
   "metadata": {},
   "outputs": [
    {
     "data": {
      "text/plain": [
       "[2, 2, 2, 3, 5]"
      ]
     },
     "execution_count": 9,
     "metadata": {},
     "output_type": "execute_result"
    }
   ],
   "source": [
    "prime_factorization(120)"
   ]
  },
  {
   "cell_type": "markdown",
   "metadata": {},
   "source": [
    "**2.6 Without using the built-in sorting functions in Python, write a my_sort function that takes a list and returns a sorted version.  For instance, my_sort([3,1,2]) should return the list [1,2,3].  Your function can work just like the built-in sorted function mentioned in tutorial 2-4, but the challenge is to implement it yourself!**"
   ]
  },
  {
   "cell_type": "code",
   "execution_count": 10,
   "metadata": {},
   "outputs": [],
   "source": [
    "def my_sort(nums):\n",
    "    for i in range(len(nums)):\n",
    "        for j in range(i + 1, len(nums)):\n",
    "\n",
    "            if nums[i] > nums[j]:\n",
    "                nums[i], nums[j] = nums[j], nums[i]\n",
    "    return nums\n"
   ]
  },
  {
   "cell_type": "code",
   "execution_count": 11,
   "metadata": {},
   "outputs": [
    {
     "data": {
      "text/plain": [
       "[1, 2, 3]"
      ]
     },
     "execution_count": 11,
     "metadata": {},
     "output_type": "execute_result"
    }
   ],
   "source": [
    "test = [3,1,2]\n",
    "\n",
    "my_sort(test)"
   ]
  },
  {
   "cell_type": "markdown",
   "metadata": {},
   "source": [
    "**2.7 Write a Python program that encrypts a text file using some secret code, and another Python program that decrypts it, making it readable again.  For instance, you could use a cypher code, replacing each character with another specified character.  For a really simple example, you can encrypt words by sending each letter to the following letter, replacing each \"a\" with \"b\", \"b\" with \"c\", and so on.  Then the word \"apple\" would become \"bqqmf\".  (If you want, you can try coming up with a more sophisticated encryption scheme.) Test your programs by encrypting and decrypting a large text file, like the novel Moby Dick.**"
   ]
  },
  {
   "cell_type": "code",
   "execution_count": 12,
   "metadata": {
    "scrolled": true
   },
   "outputs": [
    {
     "name": "stdout",
     "output_type": "stream",
     "text": [
      "Encryption Conversion: {'a': 'b', 'b': 'c', 'c': 'd', 'd': 'e', 'e': 'f', 'f': 'g', 'g': 'h', 'h': 'i', 'i': 'j', 'j': 'k', 'k': 'l', 'l': 'm', 'm': 'n', 'n': 'o', 'o': 'p', 'p': 'q', 'q': 'r', 'r': 's', 's': 't', 't': 'u', 'u': 'v', 'v': 'w', 'w': 'x', 'x': 'y', 'y': 'z', '/': '%', '|': '~', '#': ')', '_': '('}\n",
      "Decryption Conversion: {'b': 'a', 'c': 'b', 'd': 'c', 'e': 'd', 'f': 'e', 'g': 'f', 'h': 'g', 'i': 'h', 'j': 'i', 'k': 'j', 'l': 'k', 'm': 'l', 'n': 'm', 'o': 'n', 'p': 'o', 'q': 'p', 'r': 'q', 's': 'r', 't': 's', 'u': 't', 'v': 'u', 'w': 'v', 'x': 'w', 'y': 'x', 'z': 'y', '%': '/', '~': '|', ')': '#', '(': '_'}\n"
     ]
    }
   ],
   "source": [
    "import string\n",
    "alphabet = dict(zip(string.ascii_lowercase, string.ascii_lowercase[1:]))\n",
    "other = {\"/\":\"%\",\n",
    "         \"|\":\"~\",\n",
    "         \"#\":\")\",\n",
    "        \"_\":\"(\"}\n",
    "\n",
    "encrypt = {**alphabet, **other}\n",
    "decrypt = dict((v,k) for k, v in encrypt.items())\n",
    "print(\"Encryption Conversion:\", encrypt)\n",
    "print(\"Decryption Conversion:\",decrypt)"
   ]
  },
  {
   "cell_type": "code",
   "execution_count": 13,
   "metadata": {},
   "outputs": [],
   "source": [
    "def converter(text,convert_type):\n",
    "    output = \"\"\n",
    "    \n",
    "    for i in text: \n",
    "        if i in convert_type:\n",
    "            output += convert_type[i]\n",
    "        else:\n",
    "            output += i\n",
    "    \n",
    "    return output"
   ]
  },
  {
   "cell_type": "code",
   "execution_count": 14,
   "metadata": {},
   "outputs": [],
   "source": [
    "def file_read(file):\n",
    "    with open(file, 'r') as file:\n",
    "        output = file.read()\n",
    "    \n",
    "    return output\n",
    "    "
   ]
  },
  {
   "cell_type": "code",
   "execution_count": 15,
   "metadata": {
    "scrolled": true
   },
   "outputs": [
    {
     "name": "stdout",
     "output_type": "stream",
     "text": [
      "fqj tdippm up uif nppo! \n",
      "\n",
      "sbnjo \n",
      "\n",
      "gfc 21, 2021\n",
      "\n",
      "         \n",
      "         %\\\n",
      "        ~==~\n",
      "        ~  ~\n",
      "        ~  ~\n",
      "        ~  ~\n",
      "       %((((\\\n",
      "       ~    ~\n",
      "       ~Eqj ~\n",
      "       ~ XXI~\n",
      "       ~    ~\n",
      "      %~ ~  ~\\\n",
      "     % ~ ~  ~ \\\n",
      "    %((~(~((~((\\\n",
      "       %(\\%(\\\n",
      "       ))))))\n",
      "      ))))))))\n",
      "       ))))))\n",
      "        ))))\n",
      "        ))))\n",
      "         ))\n",
      "         ))  \n",
      "         ))\n",
      "         ))\n"
     ]
    }
   ],
   "source": [
    "secret_code = \"secret_code.txt\"\n",
    "\n",
    "encrypted_text = converter(file_read(secret_code),encrypt)\n",
    "\n",
    "print(encrypted_text)\n"
   ]
  },
  {
   "cell_type": "code",
   "execution_count": 16,
   "metadata": {
    "scrolled": true
   },
   "outputs": [
    {
     "name": "stdout",
     "output_type": "stream",
     "text": [
      "epi school to the moon! \n",
      "\n",
      "ramin \n",
      "\n",
      "feb 21, 2021\n",
      "\n",
      "         \n",
      "         /\\\n",
      "        |==|\n",
      "        |  |\n",
      "        |  |\n",
      "        |  |\n",
      "       /____\\\n",
      "       |    |\n",
      "       |Epi |\n",
      "       | XXI|\n",
      "       |    |\n",
      "      /| |  |\\\n",
      "     / | |  | \\\n",
      "    /__|_|__|__\\\n",
      "       /_\\/_\\\n",
      "       ######\n",
      "      ########\n",
      "       ######\n",
      "        ####\n",
      "        ####\n",
      "         ##\n",
      "         ##  \n",
      "         ##\n",
      "         ##\n"
     ]
    }
   ],
   "source": [
    "decrypted_text = converter(encrypted_text,decrypt)\n",
    "\n",
    "print(decrypted_text)"
   ]
  },
  {
   "cell_type": "markdown",
   "metadata": {},
   "source": [
    "**2.8 Save this list of English words to a text file.  Use it to write an unscramble function in Python that takes a string of letters and returns a list of English words from the list which consist of exactly the letters from the string.  For instance, unscramble(\"eilnst\") could return [\"enlist\",\"listen\",\"silent\",\"tinsel\"].  (I did not test it myself yet, so these may not be the exact words that come from the list!)**"
   ]
  },
  {
   "cell_type": "code",
   "execution_count": 17,
   "metadata": {},
   "outputs": [
    {
     "name": "stdout",
     "output_type": "stream",
     "text": [
      "['a', 'a-horizon', 'a-ok', 'aardvark', 'aardwolf', 'ab', 'aba', 'abaca', 'abacist', 'aback'] ['zygophyllaceae', 'zygophyllum', 'zygoptera', 'zygote', 'zygotene', 'zygotic', 'zymase', 'zymosis', 'zymotic', 'zymurgy']\n"
     ]
    }
   ],
   "source": [
    "word_file = \"word_list.txt\" \n",
    "\n",
    "word_list = file_read(word_file).split()\n",
    "\n",
    "print(word_list[:10],word_list[-10:])"
   ]
  },
  {
   "cell_type": "code",
   "execution_count": 18,
   "metadata": {},
   "outputs": [
    {
     "data": {
      "text/plain": [
       "['e', 'i', 'i', 'l', 'n', 's', 't']"
      ]
     },
     "execution_count": 18,
     "metadata": {},
     "output_type": "execute_result"
    }
   ],
   "source": [
    "ex = \"enilist\"\n",
    "sorted(list(ex))\n",
    "    "
   ]
  },
  {
   "cell_type": "code",
   "execution_count": 19,
   "metadata": {},
   "outputs": [],
   "source": [
    "def unscramble(word):\n",
    "    \n",
    "    return [i for i in word_list if sorted(list(i))==sorted(list(word))]"
   ]
  },
  {
   "cell_type": "code",
   "execution_count": 20,
   "metadata": {},
   "outputs": [
    {
     "name": "stdout",
     "output_type": "stream",
     "text": [
      "baa ['a-ok']\n",
      "myzotic ['zymotic']\n"
     ]
    }
   ],
   "source": [
    "print(\"baa\",unscramble(\"ok-a\"))\n",
    "print(\"myzotic\", unscramble(\"myzotic\"))"
   ]
  },
  {
   "cell_type": "markdown",
   "metadata": {},
   "source": [
    "**2.9 Create a \"choose your own adventure\" game in Python.  Here is an example.  You can either\n",
    "Print the story to the command line, print some choices, and let the user enter some text to select their choice (or see 2.10 for more of a challenge!)**\n",
    "\n",
    "**2.10* Generate a website for your choose-your-own-adventure game, like the example given.  This is a bit more ambitious but totally doable given what you learn in tutorial video 2-8!**\n",
    "\n"
   ]
  },
  {
   "cell_type": "code",
   "execution_count": 21,
   "metadata": {},
   "outputs": [],
   "source": [
    "## I will circle back to these two later "
   ]
  },
  {
   "cell_type": "markdown",
   "metadata": {},
   "source": [
    "**2.11* (hard) Write a Python function called evaluate_arithmetic that takes a string consisting of digits 0-9, operation symbols + - * and /, and parentheses, and evaluates its result as a mathematical expression, respecting the usual order of operations.  For instance, evaluate_arithmetic(\"(1+3) * 6 - 4 / 2\") should return 22.  The challenge is to do this on your own; don't use the built-in eval function!  If the input expression is not valid, you can either return an error message or simply None.**"
   ]
  },
  {
   "cell_type": "code",
   "execution_count": 22,
   "metadata": {},
   "outputs": [],
   "source": [
    "def clean_string(string):\n",
    "    \n",
    "    operations = [\"(\",\")\",\"*\",\"/\",\"+\",\"-\"]\n",
    "    numbers = list(range(10))\n",
    "     \n",
    "    new = []\n",
    "    for i in string:\n",
    "        if i in operations:\n",
    "            new.append(i)\n",
    "        elif (i!=\" \" and int(i) in numbers):\n",
    "            new.append(int(i))\n",
    "    return new \n",
    "\n",
    "## this can be cleaner -- wrote out each mathematical expression as a function -- everything can be combined in one\n",
    "\n",
    "def multiply(clist):\n",
    "    for i,v in enumerate(clist): \n",
    "        if v == \"*\": \n",
    "            clist[i] = int(clist[i-1])*int(clist[i+1])\n",
    "            del clist[i-1],clist[i]\n",
    "    return clist\n",
    "\n",
    "def division(clist):\n",
    "    for i,v in enumerate(clist): \n",
    "        if v == \"/\": \n",
    "            clist[i] = int(clist[i-1])/int(clist[i+1])\n",
    "            del clist[i-1],clist[i]\n",
    "    return clist\n",
    "\n",
    "def addition(clist):\n",
    "    for i,v in enumerate(clist): \n",
    "        if v == \"+\": \n",
    "            clist[i] = int(clist[i-1])+int(clist[i+1])\n",
    "            del clist[i-1],clist[i]\n",
    "    return clist\n",
    "\n",
    "def subtraction(clist):\n",
    "    for i,v in enumerate(clist): \n",
    "        if v == \"-\": \n",
    "            clist[i] = int(clist[i-1])-int(clist[i+1])\n",
    "            del clist[i-1],clist[i]\n",
    "    return clist\n",
    "\n",
    "\n",
    "def mdas(clist): \n",
    "    return subtraction(addition(division(multiply(clist))))\n",
    "\n",
    "def brackets(clist):\n",
    "    b1,b2 = 0,0\n",
    "    for i,v in enumerate(clist):\n",
    "        if v == \"(\":\n",
    "            b1 = i\n",
    "        elif v == \")\":\n",
    "            b2 = i\n",
    "        elif b2>b1:\n",
    "            clist[b2] = mdas(clist[b1:b2+1])[1]\n",
    "            del clist[b1:b2]\n",
    "            b1,b2 = 0,0\n",
    "    return clist\n",
    "            \n",
    "\n",
    "def evaluate_arithmetic(string):\n",
    "    after_brackets = brackets(clean_string(string))\n",
    "    return mdas(after_brackets) \n"
   ]
  },
  {
   "cell_type": "code",
   "execution_count": 23,
   "metadata": {
    "scrolled": false
   },
   "outputs": [
    {
     "name": "stdout",
     "output_type": "stream",
     "text": [
      "Clean List:  [6, '+', 4, '*', 2, '-', 5, '/', 5]\n",
      "Example Test Answer Check:  [22]\n"
     ]
    }
   ],
   "source": [
    "## Testing \n",
    "ex2 = \"6+4*2-5/5\" ## 13\n",
    "ex3 = \"(1+3) * 6 - 4 / 2\" # 22\n",
    "\n",
    "print(\"Clean List: \", clean_string(ex2))\n",
    "\n",
    "# Example Test Answer Check: \n",
    "print(\"Example Test Answer Check: \", evaluate_arithmetic(ex3))"
   ]
  },
  {
   "cell_type": "markdown",
   "metadata": {},
   "source": [
    "**2.12* (hard) Write a Sudoku solver program in Python.  Specifically, you can do this challenge which explains the game Sudoku and asks you to solve 50 Sudoku puzzles specified in a text file.  The Python script you submit should solve all 50 Sudoku puzzles, and print a single number as a result, as specified in the challenge.**"
   ]
  },
  {
   "cell_type": "code",
   "execution_count": 91,
   "metadata": {},
   "outputs": [
    {
     "data": {
      "text/plain": [
       "[[0, 0, 3, 0, 2, 0, 6, 0, 0],\n",
       " [9, 0, 0, 3, 0, 5, 0, 0, 1],\n",
       " [0, 0, 1, 8, 0, 6, 4, 0, 0],\n",
       " [0, 0, 8, 1, 0, 2, 9, 0, 0],\n",
       " [7, 0, 0, 0, 0, 0, 0, 0, 8],\n",
       " [0, 0, 6, 7, 0, 8, 2, 0, 0],\n",
       " [0, 0, 2, 6, 0, 9, 5, 0, 0],\n",
       " [8, 0, 0, 2, 0, 3, 0, 0, 9],\n",
       " [0, 0, 5, 0, 1, 0, 3, 0, 0]]"
      ]
     },
     "execution_count": 91,
     "metadata": {},
     "output_type": "execute_result"
    }
   ],
   "source": [
    "# getting data in right form for backtracking algorithm\n",
    "\n",
    "import re\n",
    "sudoku = file_read(\"sudoku.txt\")+\"\\n\"\n",
    "\n",
    "sudoku_main = re.split(\"Grid [0-9][0-9]\\n\",sudoku)\n",
    "\n",
    "\n",
    "sudoku_main = [i.split(\"\\n\") for i in sudoku_main[1:]]\n",
    "sudoku_main = [i[:-1] for i in sudoku_main]\n",
    "\n",
    "sudoku0 = convert_rec([list(i) for i in(sudoku_main[0])])\n",
    "\n",
    "sudoku0\n"
   ]
  },
  {
   "cell_type": "code",
   "execution_count": 47,
   "metadata": {},
   "outputs": [],
   "source": [
    "# convert every strings to integers\n",
    "def convert_rec(x):\n",
    "    if isinstance(x, list):\n",
    "        return list(map(convert_rec, x))\n",
    "    else:\n",
    "        return int(x)"
   ]
  },
  {
   "cell_type": "code",
   "execution_count": 58,
   "metadata": {},
   "outputs": [
    {
     "name": "stdout",
     "output_type": "stream",
     "text": [
      "4 8 3  | 9 2 1  | 6 5 7\n",
      "9 6 7  | 3 4 5  | 8 2 1\n",
      "2 5 1  | 8 7 6  | 4 9 3\n",
      "- - - - - - - - - - - - - \n",
      "5 4 8  | 1 3 2  | 9 7 6\n",
      "7 2 9  | 5 6 4  | 1 3 8\n",
      "1 3 6  | 7 9 8  | 2 4 5\n",
      "- - - - - - - - - - - - - \n",
      "3 7 2  | 6 8 9  | 5 1 4\n",
      "8 1 4  | 2 5 3  | 7 6 9\n",
      "6 9 5  | 4 1 7  | 3 8 2\n",
      "___________________\n",
      "4 8 3  | 9 2 1  | 6 5 7\n",
      "9 6 7  | 3 4 5  | 8 2 1\n",
      "2 5 1  | 8 7 6  | 4 9 3\n",
      "- - - - - - - - - - - - - \n",
      "5 4 8  | 1 3 2  | 9 7 6\n",
      "7 2 9  | 5 6 4  | 1 3 8\n",
      "1 3 6  | 7 9 8  | 2 4 5\n",
      "- - - - - - - - - - - - - \n",
      "3 7 2  | 6 8 9  | 5 1 4\n",
      "8 1 4  | 2 5 3  | 7 6 9\n",
      "6 9 5  | 4 1 7  | 3 8 2\n",
      "Sum of First 3:  15\n"
     ]
    }
   ],
   "source": [
    "## backtracking algorithm found online -- learned how it's done then applied to solve problem\n",
    "\n",
    "def solve(bo):\n",
    "    find = find_empty(bo)\n",
    "    if not find:\n",
    "        return True\n",
    "    else:\n",
    "        row, col = find\n",
    "\n",
    "    for i in range(1,10):\n",
    "        if valid(bo, i, (row, col)):\n",
    "            bo[row][col] = i\n",
    "\n",
    "            if solve(bo):\n",
    "                return True\n",
    "\n",
    "            bo[row][col] = 0\n",
    "\n",
    "    return False\n",
    "\n",
    "\n",
    "def valid(bo, num, pos):\n",
    "    # Check row\n",
    "    for i in range(len(bo[0])):\n",
    "        if bo[pos[0]][i] == num and pos[1] != i:\n",
    "            return False\n",
    "\n",
    "    # Check column\n",
    "    for i in range(len(bo)):\n",
    "        if bo[i][pos[1]] == num and pos[0] != i:\n",
    "            return False\n",
    "\n",
    "    # Check box\n",
    "    box_x = pos[1] // 3\n",
    "    box_y = pos[0] // 3\n",
    "\n",
    "    for i in range(box_y*3, box_y*3 + 3):\n",
    "        for j in range(box_x * 3, box_x*3 + 3):\n",
    "            if bo[i][j] == num and (i,j) != pos:\n",
    "                return False\n",
    "\n",
    "    return True\n",
    "\n",
    "\n",
    "def print_board(bo):\n",
    "    for i in range(len(bo)):\n",
    "        if i % 3 == 0 and i != 0:\n",
    "            print(\"- - - - - - - - - - - - - \")\n",
    "\n",
    "        for j in range(len(bo[0])):\n",
    "            if j % 3 == 0 and j != 0:\n",
    "                print(\" | \", end=\"\")\n",
    "\n",
    "            if j == 8:\n",
    "                print(bo[i][j])\n",
    "            else:\n",
    "                print(str(bo[i][j]) + \" \", end=\"\")\n",
    "\n",
    "\n",
    "def find_empty(bo):\n",
    "    for i in range(len(bo)):\n",
    "        for j in range(len(bo[0])):\n",
    "            if bo[i][j] == 0:\n",
    "                return (i, j)  # row, col\n",
    "\n",
    "    return None\n",
    "\n",
    "print_board(sudoku0)\n",
    "solve(sudoku0)\n",
    "print(\"___________________\")\n",
    "print_board(sudoku0)\n",
    "print(\"Sum of First 3: \", sum(sudoku0[0][:3]))"
   ]
  },
  {
   "cell_type": "code",
   "execution_count": 93,
   "metadata": {
    "scrolled": false
   },
   "outputs": [
    {
     "name": "stdout",
     "output_type": "stream",
     "text": [
      "Puzzle Number 1 sum first three is:  15\n",
      "Puzzle Number 2 sum first three is:  11\n",
      "Puzzle Number 3 sum first three is:  12\n",
      "Puzzle Number 4 sum first three is:  11\n",
      "Puzzle Number 5 sum first three is:  10\n",
      "Puzzle Number 6 sum first three is:  14\n",
      "Puzzle Number 7 sum first three is:  8\n",
      "Puzzle Number 8 sum first three is:  19\n",
      "Puzzle Number 9 sum first three is:  13\n",
      "Puzzle Number 10 sum first three is:  14\n",
      "Puzzle Number 11 sum first three is:  22\n",
      "Puzzle Number 12 sum first three is:  17\n",
      "Puzzle Number 13 sum first three is:  19\n",
      "Puzzle Number 14 sum first three is:  18\n",
      "Puzzle Number 15 sum first three is:  22\n",
      "Puzzle Number 16 sum first three is:  10\n",
      "Puzzle Number 17 sum first three is:  17\n",
      "Puzzle Number 18 sum first three is:  21\n",
      "Puzzle Number 19 sum first three is:  14\n",
      "Puzzle Number 20 sum first three is:  17\n",
      "Puzzle Number 21 sum first three is:  14\n",
      "Puzzle Number 22 sum first three is:  11\n",
      "Puzzle Number 23 sum first three is:  15\n",
      "Puzzle Number 24 sum first three is:  7\n",
      "Puzzle Number 25 sum first three is:  10\n",
      "Puzzle Number 26 sum first three is:  14\n",
      "Puzzle Number 27 sum first three is:  18\n",
      "Puzzle Number 28 sum first three is:  12\n",
      "Puzzle Number 29 sum first three is:  10\n",
      "Puzzle Number 30 sum first three is:  19\n",
      "Puzzle Number 31 sum first three is:  14\n",
      "Puzzle Number 32 sum first three is:  6\n",
      "Puzzle Number 33 sum first three is:  23\n",
      "Puzzle Number 34 sum first three is:  15\n",
      "Puzzle Number 35 sum first three is:  12\n",
      "Puzzle Number 36 sum first three is:  12\n",
      "Puzzle Number 37 sum first three is:  18\n",
      "Puzzle Number 38 sum first three is:  14\n",
      "Puzzle Number 39 sum first three is:  8\n",
      "Puzzle Number 40 sum first three is:  13\n",
      "Puzzle Number 41 sum first three is:  13\n",
      "Puzzle Number 42 sum first three is:  15\n",
      "Puzzle Number 43 sum first three is:  19\n",
      "Puzzle Number 44 sum first three is:  10\n",
      "Puzzle Number 45 sum first three is:  19\n",
      "Puzzle Number 46 sum first three is:  18\n",
      "Puzzle Number 47 sum first three is:  15\n",
      "Puzzle Number 48 sum first three is:  15\n",
      "Puzzle Number 49 sum first three is:  15\n",
      "Puzzle Number 50 sum first three is:  9\n"
     ]
    }
   ],
   "source": [
    "sudoku_main\n",
    "\n",
    "sudoku0 = convert_rec([list(i) for i in(sudoku_main[0])])\n",
    "\n",
    "for puzzle_num in range(len(sudoku_main)):\n",
    "    \n",
    "    puzzle = convert_rec([list(i) for i in(sudoku_main[puzzle_num])])\n",
    "    #print(\"Puzzle Before: \",puzzle)\n",
    "    \n",
    "    solve(puzzle)\n",
    "    #print(\"Puzzle After: \",puzzle)\n",
    "    \n",
    "    print(\"Puzzle Number\",puzzle_num+1,\"sum first three is: \",sum(puzzle[0][:3]))\n"
   ]
  },
  {
   "cell_type": "markdown",
   "metadata": {},
   "source": [
    "**2.13* (hard) Write a Python function called make_change which takes in a number of cents (US currency) and returns all the different ways to make that number of cents using US coins, of values 1 cent, 5 cents, 10 cents, and 25 cents.  Return your result as a list of reverse-sorted lists, so for instance, make_change(11) should return [[1,1,1,1,1,1,1,1,1,1,1],[5,1,1,1,1,1,1],[5,5,1],[10,1]].  These represent 11 pennies, 1 nickel 6 pennies, 2 nickels 1 penny, and 1 dime 1 penny, which are all four ways to make 11 cents.**"
   ]
  },
  {
   "cell_type": "code",
   "execution_count": 133,
   "metadata": {
    "scrolled": true
   },
   "outputs": [],
   "source": [
    "## not the cleanest way but gets the job done\n",
    "\n",
    "def make_change(TOTAL):\n",
    "    output=[]\n",
    "    for q in range(0, 1+TOTAL//25):\n",
    "        remainder_q = TOTAL - 25*q\n",
    "        for d in range(0, 1+remainder_q//10):\n",
    "            remainder_d = remainder_q - 10*d\n",
    "            for n in range(0, 1+remainder_d//5):\n",
    "                remainder_n = remainder_d - 5*d\n",
    "                for p in range(0, 1+remainder_d//1):      \n",
    "                    if 25*q+10*d+5*n+1*p == TOTAL:\n",
    "                        combo = [25]*q + [10]*d +[5]*n + [1]*p\n",
    "                        output.append(combo)\n",
    "                        #print (\"Quarters: \",q,\"Dimes: \",d,\"Nickels: \", n,\"Pennies: \",p)\n",
    "                        break\n",
    "                    if 25*q+10*d+5*n+1*p > TOTAL:\n",
    "                        break\n",
    "    return output\n"
   ]
  },
  {
   "cell_type": "code",
   "execution_count": 134,
   "metadata": {},
   "outputs": [
    {
     "data": {
      "text/plain": [
       "[[1, 1, 1, 1, 1, 1, 1, 1, 1, 1, 1], [5, 1, 1, 1, 1, 1, 1], [5, 5, 1], [10, 1]]"
      ]
     },
     "execution_count": 134,
     "metadata": {},
     "output_type": "execute_result"
    }
   ],
   "source": [
    "make_change(11)"
   ]
  },
  {
   "cell_type": "markdown",
   "metadata": {},
   "source": [
    "**2.14* If you're building an app of your own, use the screens you built in HTML last week and make them into an interactive prototype using the approach of tutorial video 2-8.**\n"
   ]
  },
  {
   "cell_type": "code",
   "execution_count": 28,
   "metadata": {},
   "outputs": [],
   "source": [
    "## Will Circle back on this "
   ]
  },
  {
   "cell_type": "code",
   "execution_count": null,
   "metadata": {},
   "outputs": [],
   "source": []
  }
 ],
 "metadata": {
  "kernelspec": {
   "display_name": "Python 3",
   "language": "python",
   "name": "python3"
  },
  "language_info": {
   "codemirror_mode": {
    "name": "ipython",
    "version": 3
   },
   "file_extension": ".py",
   "mimetype": "text/x-python",
   "name": "python",
   "nbconvert_exporter": "python",
   "pygments_lexer": "ipython3",
   "version": "3.8.3"
  }
 },
 "nbformat": 4,
 "nbformat_minor": 4
}
